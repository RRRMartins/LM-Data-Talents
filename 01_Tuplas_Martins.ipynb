{
  "nbformat": 4,
  "nbformat_minor": 0,
  "metadata": {
    "colab": {
      "provenance": [],
      "include_colab_link": true
    },
    "kernelspec": {
      "name": "python3",
      "display_name": "Python 3"
    },
    "language_info": {
      "name": "python"
    }
  },
  "cells": [
    {
      "cell_type": "markdown",
      "metadata": {
        "id": "view-in-github",
        "colab_type": "text"
      },
      "source": [
        "<a href=\"https://colab.research.google.com/github/RRRMartins/LM-Data-Talents/blob/main/01_Tuplas_Martins.ipynb\" target=\"_parent\"><img src=\"https://colab.research.google.com/assets/colab-badge.svg\" alt=\"Open In Colab\"/></a>"
      ]
    },
    {
      "cell_type": "markdown",
      "source": [
        "# Tuplas\n",
        "Neste capítulo estudaremos uma estrutura de dados, ou seja, uma forma estruturada de armazenar múltiplos dados. Você provavelmente já estudou pelo menos outra estrutura de dados em Python: a lista.\n",
        "\n",
        "Vamos brevemente revisar os conceitos de lista, pois eles serão úteis para compreender nossa nova estrutura, a tupla.\n",
        "\n",
        "Focaremos em funcionalidades, não em funções prontas e métodos de lista.\n",
        "\n",
        "## Revisão de listas\n",
        "### Criando uma lista e acessando elementos\n",
        "A lista é uma coleção de objetos em Python. Criando uma única variável para representar a lista, podemos armazenar múltiplos valores. Internamente, esses valores são representados por seus índices: um número inteiro, iniciando em zero e incrementando com passo unitário.\n",
        "\n",
        "Podemos criar uma lista através da função list ou utilizando um par de colchetes:\n"
      ],
      "metadata": {
        "id": "x-WTv00s9mWE"
      }
    },
    {
      "cell_type": "code",
      "source": [
        "lista1 = list() # uma lista vazia\n",
        "\n",
        "lista2 = [] # outra lista vazia\n",
        "\n",
        "linguagens = ['Python', 'JavaScript', 'SQL'] # uma lista com 3 elementos\n",
        "\n",
        "dados_variados = [3.14, 1000, True, 'abacate'] # uma lista com dados de tipos diversos\n",
        "\n",
        "lista_de_listas = [ ['Curso', 'Módulo 1', 'Módulo 2'], ['Data Science', 'Lógica de Programação I', 'Lógica de Programação II'], ['Web Full Stack', 'Front End Estático', 'Front End Dinâmico']]\n",
        "\n",
        "print(linguagens[0]) # imprime \"Python\"\n",
        "print(linguagens[1]) # imprime \"JavaScript\"\n",
        "print(dados_variados[2]) # imprime True\n",
        "print(lista_de_listas[2][0]) # imprime \"Web Full Stack\""
      ],
      "metadata": {
        "colab": {
          "base_uri": "https://localhost:8080/"
        },
        "id": "1kttFeEe93O0",
        "outputId": "ca95db37-1186-4d5c-ca2b-ade2bb7ae151"
      },
      "execution_count": null,
      "outputs": [
        {
          "output_type": "stream",
          "name": "stdout",
          "text": [
            "Python\n",
            "JavaScript\n",
            "True\n",
            "Web Full Stack\n"
          ]
        }
      ]
    },
    {
      "cell_type": "markdown",
      "source": [
        "### Iterando uma lista\n",
        "Como os elementos em uma lista são representados por números inteiros, podemos facilmente percorrê-la variando seu índice de maneira automatizada:"
      ],
      "metadata": {
        "id": "yotaDlZU-FqQ"
      }
    },
    {
      "cell_type": "code",
      "source": [
        "for indice in range(4):\n",
        "    print(dados_variados[indice])"
      ],
      "metadata": {
        "colab": {
          "base_uri": "https://localhost:8080/"
        },
        "id": "J7PsUlG6-Klz",
        "outputId": "711eead9-556e-4260-b9f7-5cceaa462380"
      },
      "execution_count": null,
      "outputs": [
        {
          "output_type": "stream",
          "name": "stdout",
          "text": [
            "3.14\n",
            "1000\n",
            "True\n",
            "abacate\n"
          ]
        }
      ]
    },
    {
      "cell_type": "markdown",
      "source": [
        "Apesar de funcionar, essa forma é considerada pouco legível. Existe uma maneira mais direta de percorrer uma lista. Ao trocarmos a função range do nosso for pela própria lista, ele irá copiar cada elemento da lista para a variável temporária. Assim conseguimos facilmente, e de maneira bem legível, acessar todos os elementos de uma lista:"
      ],
      "metadata": {
        "id": "Sqj7fPqO-Oyx"
      }
    },
    {
      "cell_type": "code",
      "source": [
        "for elemento in dados_variados:\n",
        "    print(elemento)"
      ],
      "metadata": {
        "colab": {
          "base_uri": "https://localhost:8080/"
        },
        "id": "VFSqYJrO-Nxd",
        "outputId": "2c8178dd-522a-4461-9923-7ede4cf1b4fc"
      },
      "execution_count": null,
      "outputs": [
        {
          "output_type": "stream",
          "name": "stdout",
          "text": [
            "3.14\n",
            "1000\n",
            "True\n",
            "abacate\n"
          ]
        }
      ]
    },
    {
      "cell_type": "markdown",
      "source": [
        "Caso tenhamos listas aninhadas, podemos percorrê-las aninhando loops. Utilizamos um loop para cada \"nível\" de lista. Execute o bloco abaixo e veja seu resultado na tela:"
      ],
      "metadata": {
        "id": "H6e8p96C-X0v"
      }
    },
    {
      "cell_type": "code",
      "source": [
        "for linha in lista_de_listas:\n",
        "    for elemento in linha:\n",
        "        print(elemento)"
      ],
      "metadata": {
        "colab": {
          "base_uri": "https://localhost:8080/"
        },
        "id": "hBbaTldX-W_M",
        "outputId": "a7728bee-11f0-4d1e-9a69-c2c93f4e6527"
      },
      "execution_count": null,
      "outputs": [
        {
          "output_type": "stream",
          "name": "stdout",
          "text": [
            "Curso\n",
            "Módulo 1\n",
            "Módulo 2\n",
            "Data Science\n",
            "Lógica de Programação I\n",
            "Lógica de Programação II\n",
            "Web Full Stack\n",
            "Front End Estático\n",
            "Front End Dinâmico\n"
          ]
        }
      ]
    },
    {
      "cell_type": "markdown",
      "source": [
        "### Slicing de listas\n",
        "Uma operação bastante comum em uma lista é extrair apenas uma parte dela. Para isso você deve informar, pelo menos, o índice inicial e o índice final, sendo que o índice final não irá entrar na conta - dizemos que ele é um valor \"exclusivo\", como se fosse um intervalo aberto naquele ponto."
      ],
      "metadata": {
        "id": "nh5Ao0_8-bQU"
      }
    },
    {
      "cell_type": "code",
      "source": [
        "frutas = ['abacate', 'banana', 'carambola', 'damasco', 'embaúba', 'framboesa', 'goiaba']\n",
        "\n",
        "algumas_frutas = frutas[2:5] \n",
        "\n",
        "print(algumas_frutas) # resultado: ['carambola', 'damasco', 'embaúba']"
      ],
      "metadata": {
        "colab": {
          "base_uri": "https://localhost:8080/"
        },
        "id": "pi-RE_2j-e4A",
        "outputId": "fe465674-1564-4eea-d2b8-34a5a8bfc009"
      },
      "execution_count": null,
      "outputs": [
        {
          "output_type": "stream",
          "name": "stdout",
          "text": [
            "['carambola', 'damasco', 'embaúba']\n"
          ]
        }
      ]
    },
    {
      "cell_type": "markdown",
      "source": [
        "Você pode deixar um dos dois índices em branco. Na ausência do primeiro índice, a operação se iniciará com o índice 0 da lista original. Na ausência do segundo, a operação seguirá até o final da lista original."
      ],
      "metadata": {
        "id": "oujMNx-V-hpz"
      }
    },
    {
      "cell_type": "code",
      "source": [
        "primeiras3 = frutas[:3]\n",
        "print(primeiras3)\n",
        "\n",
        "ultimas3 = frutas[4:]\n",
        "print(ultimas3)"
      ],
      "metadata": {
        "colab": {
          "base_uri": "https://localhost:8080/"
        },
        "id": "v-ImGhLj-kiW",
        "outputId": "1d43aa8b-f8b3-4dee-b70d-a9dd74623e4d"
      },
      "execution_count": null,
      "outputs": [
        {
          "output_type": "stream",
          "name": "stdout",
          "text": [
            "['abacate', 'banana', 'carambola']\n",
            "['embaúba', 'framboesa', 'goiaba']\n"
          ]
        }
      ]
    },
    {
      "cell_type": "markdown",
      "source": [
        "Também podemos utilizar índices negativos. O índice -1 acessa o último elemento da lista, o -2 acessa o penúltimo, e assim sucessivamente. Podemos reescrever o exemplo anterior utilizando números negativos para facilitar ainda mais a legibilidade e tornar o exemplo mais genérico e independente do tamanho da lista:\n",
        "\n"
      ],
      "metadata": {
        "id": "s3ubYCCD-nKj"
      }
    },
    {
      "cell_type": "code",
      "source": [
        "ultimas3 = frutas[-3:]\n",
        "print(ultimas3)\n"
      ],
      "metadata": {
        "colab": {
          "base_uri": "https://localhost:8080/"
        },
        "id": "GpZdgRT_-o6C",
        "outputId": "3e5f4d84-e18f-4468-866d-32d8ba2cd13c"
      },
      "execution_count": null,
      "outputs": [
        {
          "output_type": "stream",
          "name": "stdout",
          "text": [
            "['embaúba', 'framboesa', 'goiaba']\n"
          ]
        }
      ]
    },
    {
      "cell_type": "markdown",
      "source": [
        "Você deve se recordar que atribuir uma lista para outra não copia a lista. Veja o exemplo abaixo:\n",
        "\n"
      ],
      "metadata": {
        "id": "uFHDSNec-tCk"
      }
    },
    {
      "cell_type": "code",
      "source": [
        "copia_frutas = frutas\n",
        "copia_frutas.append('heisteria')\n",
        "print(frutas) # resultado na tela: ['abacate', 'banana', 'carambola', 'damasco', 'embaúba', 'framboesa', 'goiaba', 'heisteria']"
      ],
      "metadata": {
        "colab": {
          "base_uri": "https://localhost:8080/"
        },
        "id": "JracXWu8-sX8",
        "outputId": "9a453254-1047-4c31-f191-49a9fab063aa"
      },
      "execution_count": null,
      "outputs": [
        {
          "output_type": "stream",
          "name": "stdout",
          "text": [
            "['abacate', 'banana', 'carambola', 'damasco', 'embaúba', 'framboesa', 'goiaba', 'heisteria']\n"
          ]
        }
      ]
    },
    {
      "cell_type": "markdown",
      "source": [
        "Quando atribuímos uma lista existente para uma variável, a variável irá referenciar a mesma lista na memória. Portanto, operações realizadas na lista \"nova\" irão afetar a lista \"antiga\". Não houve a criação de uma nova lista de fato.\n",
        "\n",
        "Uma forma fácil de copiar de verdade uma lista para outra lista é utilizar um slice indo do início até o final da lista original:"
      ],
      "metadata": {
        "id": "ftwu0E95-1AA"
      }
    },
    {
      "cell_type": "code",
      "source": [
        "copia_frutas = frutas[:]\n",
        "print(copia_frutas)"
      ],
      "metadata": {
        "colab": {
          "base_uri": "https://localhost:8080/"
        },
        "id": "On-6NG6P-7VI",
        "outputId": "c3464b46-5c4c-4a54-84ee-738dad0ba624"
      },
      "execution_count": null,
      "outputs": [
        {
          "output_type": "stream",
          "name": "stdout",
          "text": [
            "['abacate', 'banana', 'carambola', 'damasco', 'embaúba', 'framboesa', 'goiaba', 'heisteria']\n"
          ]
        }
      ]
    },
    {
      "cell_type": "markdown",
      "source": [
        "`copia_frutas` e `frutas` não referenciam a mesma lista. Elas referenciam duas listas diferentes contendo os mesmos elementos, mas modificações feitas em uma delas não irão afetar a outra.\n",
        "\n",
        "É possível passar mais um valor representando um passo ou salto. Por exemplo, podemos pegar os elementos das posições ímpares da lista começando na posição 1 e adotando salto igual a 2:"
      ],
      "metadata": {
        "id": "S3DITmOY-9eV"
      }
    },
    {
      "cell_type": "code",
      "source": [
        "impares = frutas[1::2]\n",
        "print(impares)"
      ],
      "metadata": {
        "colab": {
          "base_uri": "https://localhost:8080/"
        },
        "id": "HgIZwMvz_CN7",
        "outputId": "daba4727-059a-4aad-bbe5-19537355fb64"
      },
      "execution_count": null,
      "outputs": [
        {
          "output_type": "stream",
          "name": "stdout",
          "text": [
            "['banana', 'damasco', 'framboesa', 'heisteria']\n"
          ]
        }
      ]
    },
    {
      "cell_type": "markdown",
      "source": [
        "Com saltos negativos, é fácil inverter uma lista:\n",
        "\n"
      ],
      "metadata": {
        "id": "jvQngC0i_Fu4"
      }
    },
    {
      "cell_type": "code",
      "source": [
        "frutas_inv = frutas[-1::-1]\n",
        "print(frutas_inv)"
      ],
      "metadata": {
        "colab": {
          "base_uri": "https://localhost:8080/"
        },
        "id": "YIt9_Kti_IGK",
        "outputId": "cff913db-f8bd-4333-b3c0-ae920201ecd4"
      },
      "execution_count": null,
      "outputs": [
        {
          "output_type": "stream",
          "name": "stdout",
          "text": [
            "['heisteria', 'goiaba', 'framboesa', 'embaúba', 'damasco', 'carambola', 'banana', 'abacate']\n"
          ]
        }
      ]
    },
    {
      "cell_type": "markdown",
      "source": [
        "### Concatenação de listas\n",
        "Uma operação útil em listas é a concatenação. Quando \"somamos\" duas listas, utilizando o operador +, teremos uma nova lista com os elementos das duas listas originais em ordem de aparição:"
      ],
      "metadata": {
        "id": "8LallMwf_J2j"
      }
    },
    {
      "cell_type": "code",
      "source": [
        "ds = ['Python', 'SQL', 'R']\n",
        "web = ['HTML', 'CSS', 'JavaScript']\n",
        "\n",
        "linguagens = ds + web\n",
        "print(linguagens) \n",
        "#resultado: ['Python', 'SQL', 'R', 'HTML', 'CSS', 'JavaScript']"
      ],
      "metadata": {
        "colab": {
          "base_uri": "https://localhost:8080/"
        },
        "id": "HHV-PHqg_TRl",
        "outputId": "50f60277-a1c4-4d17-f985-5a6e35008e68"
      },
      "execution_count": null,
      "outputs": [
        {
          "output_type": "stream",
          "name": "stdout",
          "text": [
            "['Python', 'SQL', 'R', 'HTML', 'CSS', 'JavaScript']\n"
          ]
        }
      ]
    },
    {
      "cell_type": "markdown",
      "source": [
        "## Tuplas\n",
        "### Operações básicas\n",
        "Assim como as listas, tuplas também são coleções de objetos. Elas podem armazenar diversos objetos de diferentes tipos. Elas também possuem índice, que se comporta da mesma maneira que os índices de uma lista. Podemos criar tuplas utilizando parênteses ou a função `tuple`. Caso a tupla possua pelo menos 2 elementos, não precisamos dos parênteses, basta separar os valores por vírgula, apesar de ser recomendável utilizá-los para evitar ambiguidades:\n"
      ],
      "metadata": {
        "id": "czTlzpiW_Xau"
      }
    },
    {
      "cell_type": "code",
      "source": [
        "tupla1 = tuple() # uma tupla vazia\n",
        "\n",
        "tupla2 = () # outra tupla vazia\n",
        "\n",
        "linguagens = ('Python', 'JavaScript', 'SQL') # uma tupla com 3 elementos\n",
        "\n",
        "dados_variados = 3.14, 1000, True, 'abacate' # uma tupla declarada sem parênteses\n",
        "\n",
        "tupla_de_tuplas = ( ('Curso', 'Módulo 1', 'Módulo 2'), ('Data Science', 'Lógica de Programação I', 'Lógica de Programação II'), ('Web Full Stack', 'Front End Estático', 'Front End Dinâmico'))\n",
        "\n",
        "print(linguagens[0]) # imprime \"Python\"\n",
        "print(linguagens[1]) # imprime \"JavaScript\"\n",
        "print(dados_variados[2]) # imprime True\n",
        "print(tupla_de_tuplas[2][0]) # imprime \"Web Full Stack\""
      ],
      "metadata": {
        "colab": {
          "base_uri": "https://localhost:8080/"
        },
        "id": "MAjL8Vue_eqh",
        "outputId": "e45a46ef-e55e-4a16-8ed8-e72eddba89fb"
      },
      "execution_count": null,
      "outputs": [
        {
          "output_type": "stream",
          "name": "stdout",
          "text": [
            "Python\n",
            "JavaScript\n",
            "True\n",
            "Web Full Stack\n"
          ]
        }
      ]
    },
    {
      "cell_type": "markdown",
      "source": [
        "Todas as outras operações que revisamos hoje em listas podem ser realizadas com tuplas:\n",
        "\n",
        "- iteração através de um loop do tipo for\n",
        "- slicing passando índice inicial, final e salto\n",
        "- concatenação\n",
        "\n",
        "É possível também fazer conversão de lista para tupla e vice-versa:"
      ],
      "metadata": {
        "id": "VBhTrkre_jQU"
      }
    },
    {
      "cell_type": "code",
      "source": [
        "lista_frutas = ['abacate', 'banana', 'carambola', 'damasco', 'embaúba', 'framboesa', 'goiaba']\n",
        "\n",
        "tupla_frutas = tuple(lista_frutas)\n",
        "print(tupla_frutas)\n",
        "\n",
        "nova_lista_frutas = list(tupla_frutas)\n",
        "print(nova_lista_frutas)"
      ],
      "metadata": {
        "colab": {
          "base_uri": "https://localhost:8080/"
        },
        "id": "o7Q_pQqp_rv9",
        "outputId": "f14f131c-6b06-4d1d-88bd-b400e4797c78"
      },
      "execution_count": null,
      "outputs": [
        {
          "output_type": "stream",
          "name": "stdout",
          "text": [
            "('abacate', 'banana', 'carambola', 'damasco', 'embaúba', 'framboesa', 'goiaba')\n",
            "['abacate', 'banana', 'carambola', 'damasco', 'embaúba', 'framboesa', 'goiaba']\n"
          ]
        }
      ]
    },
    {
      "cell_type": "markdown",
      "source": [
        "### Imutabilidade\n",
        "Listas possuem uma propriedade que a tupla não possui: mutabilidade. O código abaixo irá funcionar para a operação na lista, mas irá falhar para a operação na tupla:"
      ],
      "metadata": {
        "id": "f1V67EpP_uYU"
      }
    },
    {
      "cell_type": "code",
      "source": [
        "lista_frutas = ['abacate', 'banana', 'carambola', 'damasco', 'embaúba', 'framboesa', 'goiaba']\n",
        "tupla_frutas = ('abacate', 'banana', 'carambola', 'damasco', 'embaúba', 'framboesa', 'goiaba')\n",
        "\n",
        "lista_frutas[0] = 'ananás'\n",
        "print(lista_frutas)\n",
        "\n",
        "tupla_frutas[0] = 'ananás' # erro"
      ],
      "metadata": {
        "colab": {
          "base_uri": "https://localhost:8080/",
          "height": 218
        },
        "id": "ibcgrcAJ_1uk",
        "outputId": "2318bf4f-1ef6-4984-8b16-37a3a2b74ad9"
      },
      "execution_count": null,
      "outputs": [
        {
          "output_type": "stream",
          "name": "stdout",
          "text": [
            "['ananás', 'banana', 'carambola', 'damasco', 'embaúba', 'framboesa', 'goiaba']\n"
          ]
        },
        {
          "output_type": "error",
          "ename": "TypeError",
          "evalue": "ignored",
          "traceback": [
            "\u001b[0;31m---------------------------------------------------------------------------\u001b[0m",
            "\u001b[0;31mTypeError\u001b[0m                                 Traceback (most recent call last)",
            "\u001b[0;32m<ipython-input-16-dcd8352b374c>\u001b[0m in \u001b[0;36m<module>\u001b[0;34m\u001b[0m\n\u001b[1;32m      5\u001b[0m \u001b[0mprint\u001b[0m\u001b[0;34m(\u001b[0m\u001b[0mlista_frutas\u001b[0m\u001b[0;34m)\u001b[0m\u001b[0;34m\u001b[0m\u001b[0;34m\u001b[0m\u001b[0m\n\u001b[1;32m      6\u001b[0m \u001b[0;34m\u001b[0m\u001b[0m\n\u001b[0;32m----> 7\u001b[0;31m \u001b[0mtupla_frutas\u001b[0m\u001b[0;34m[\u001b[0m\u001b[0;36m0\u001b[0m\u001b[0;34m]\u001b[0m \u001b[0;34m=\u001b[0m \u001b[0;34m'ananás'\u001b[0m \u001b[0;31m# erro\u001b[0m\u001b[0;34m\u001b[0m\u001b[0;34m\u001b[0m\u001b[0m\n\u001b[0m",
            "\u001b[0;31mTypeError\u001b[0m: 'tuple' object does not support item assignment"
          ]
        }
      ]
    },
    {
      "cell_type": "markdown",
      "source": [
        "Por que alguém escolheria uma estrutura imutável? Por que usar uma lista com menos recursos? O principal motivo é precisamente quando não convém alterar os dados. Em Python é muito difícil \"proibir\" algo: nada impede outro programador de transformar a tupla em uma lista, fazer alterações na lista e salvar a nova tupla \"por cima\" da velha, utilizando o mesmo nome para a nova.\n",
        "\n",
        "Porém, quando utilizamos uma tupla, estamos sinalizando que aqueles dados não deveriam ser alterados, e ninguém irá conseguir alterá-los por acidente. Para alterá-los será necessário realizar uma série de conversões de maneira intencional.\n",
        "\n",
        "Isso aumenta um pouco a segurança e confiabilidade de nosso código em certas situações, evitando a alteração indevida de dados que podem ser críticos para o bom funcionamento do nosso programa.\n",
        "\n",
        "Adicionalmente, em alguns contextos muito específicos - quantidades muito grandes de dados com uma grande quantidade de operações de leitura versus poucas ou nenhuma operação de escrita - a tupla pode oferecer desempenho significativamente superior à lista. São poucas as situações onde você sentirá essa diferença, seja porque para quantidades muito baixas de dados a lista possui uma série de otimizações que podem torná-la até mais veloz do que a tupla, seja porque para quantidades relativamente grandes de dados a lista ainda será razoavelmente rápida."
      ],
      "metadata": {
        "id": "v-RgknKM_5Z_"
      }
    },
    {
      "cell_type": "markdown",
      "source": [
        "### Desempacotamento de tupla\n",
        "Uma operação bastante interessante que podemos realizar com tuplas é o desempacotamento de tuplas, que aparecerá em muitos locais com seu nome em inglês, tuple unpacking.\n",
        "\n",
        "O desempacotamento de tupla é uma operação que permite facilmente atribuir o conteúdo de uma tupla a variáveis individuais, sem a necessidade de escrever múltiplas linhas de código e manipular índices. Vejamos um exemplo básico:"
      ],
      "metadata": {
        "id": "xfGhb8gFAIMw"
      }
    },
    {
      "cell_type": "code",
      "source": [
        "x, y, z = ('Lista', 'Tupla', 'Dicionário')\n",
        "print(x) # Lista\n",
        "print(y) # Tupla\n",
        "print(z) # Dicionário"
      ],
      "metadata": {
        "colab": {
          "base_uri": "https://localhost:8080/"
        },
        "id": "pSE2DpqPAB6_",
        "outputId": "74cbbc12-f8c5-4ad8-d144-abbc33e9ed0e"
      },
      "execution_count": null,
      "outputs": [
        {
          "output_type": "stream",
          "name": "stdout",
          "text": [
            "Lista\n",
            "Tupla\n",
            "Dicionário\n"
          ]
        }
      ]
    },
    {
      "cell_type": "markdown",
      "source": [
        "Uma limitação inicial que temos com essa técnica é que precisamos utilizar exatamente 1 variável para cada elemento da tupla, mesmo que não estejamos interessados em todos os seus elementos. Podemos contornar isso utilizando o operador *. Ao utilizá-lo em uma das variáveis no desempacotamento, estamos sinalizando que ele pode receber múltiplos valores, formando uma coleção com parte dos valores:\n",
        "\n"
      ],
      "metadata": {
        "id": "aQbo3g8SAPdj"
      }
    },
    {
      "cell_type": "code",
      "source": [
        "linguagens = ('Python', 'JavaScript', 'HTML', 'CSS', 'R')\n",
        "\n",
        "primeira, *resto = linguagens\n",
        "print(primeira) # Python\n",
        "print(resto) # ['JavaScript', 'HTML', 'CSS', 'R']\n",
        "\n",
        "*resto, ultima = linguagens\n",
        "print(resto) # ['Python', 'JavaScript', 'HTML', 'CSS']\n",
        "print(ultima) # R\n",
        "\n",
        "primeira, *meio, ultima = linguagens\n",
        "print(primeira) # Python\n",
        "print(meio) # ['JavaScript', 'HTML', 'CSS']\n",
        "print(ultima) # R"
      ],
      "metadata": {
        "colab": {
          "base_uri": "https://localhost:8080/"
        },
        "id": "Xwwl2_x3AOw5",
        "outputId": "ab0691e1-d6cd-47b6-99e5-64b7b881a85b"
      },
      "execution_count": null,
      "outputs": [
        {
          "output_type": "stream",
          "name": "stdout",
          "text": [
            "Python\n",
            "['JavaScript', 'HTML', 'CSS', 'R']\n",
            "['Python', 'JavaScript', 'HTML', 'CSS']\n",
            "R\n",
            "Python\n",
            "['JavaScript', 'HTML', 'CSS']\n",
            "R\n"
          ]
        }
      ]
    },
    {
      "cell_type": "markdown",
      "source": [
        "> O desempacotamento também pode ser utilizado com listas. Um dos principais motivos para ele frequentemente ser lembrado como uma operação de tupla foi que ele inicialmente só existia, de fato, para tuplas, e foi implementado para listas em versões mais recentes do Python. Outro motivo está relacionado à imutabilidade: como a tupla é imutável, temos mais garantias de que sabemos qual dado está em cada posição dela, tornando essa operação mais confiável em tuplas do que em listas.\n",
        "\n"
      ],
      "metadata": {
        "id": "J0xD_KcDAdu-"
      }
    },
    {
      "cell_type": "markdown",
      "source": [
        "### Operações com tuplas \"implícitas\"\n",
        "O Python oferece alguns truques que permitem escrever códigos mais enxutos do que em outras linguagens, e parte desses truques utiliza sintaxe de tupla. Por exemplo, para criar duas variáveis e atribuir valores simultaneamente a elas, podemos utilizar vírgulas:\n",
        "\n"
      ],
      "metadata": {
        "id": "Mr1xjLjdAmTv"
      }
    },
    {
      "cell_type": "code",
      "source": [
        "x, y = 10, 20\n",
        "\n",
        "print(x) # 10\n",
        "print(y) # 20"
      ],
      "metadata": {
        "colab": {
          "base_uri": "https://localhost:8080/"
        },
        "id": "VbjUvjUhAofA",
        "outputId": "03584a89-f514-4467-a48b-d4252569477d"
      },
      "execution_count": null,
      "outputs": [
        {
          "output_type": "stream",
          "name": "stdout",
          "text": [
            "10\n",
            "20\n"
          ]
        }
      ]
    },
    {
      "cell_type": "markdown",
      "source": [
        "Outro truque relacionado bastante comum é inverter o valor de duas variáveis:\n",
        "\n"
      ],
      "metadata": {
        "id": "t4-yDpFoAuU9"
      }
    },
    {
      "cell_type": "code",
      "source": [
        "y, x = x, y\n",
        "\n",
        "print(x) # 20\n",
        "print(y) # 10"
      ],
      "metadata": {
        "colab": {
          "base_uri": "https://localhost:8080/"
        },
        "id": "COdm53-bAwvZ",
        "outputId": "4545d386-b65d-4e48-f70e-b6f4a477bcb8"
      },
      "execution_count": null,
      "outputs": [
        {
          "output_type": "stream",
          "name": "stdout",
          "text": [
            "20\n",
            "10\n"
          ]
        }
      ]
    },
    {
      "cell_type": "markdown",
      "source": [
        "Esse tipo de operação é considerado *açúcar sintático*, ou seja, não acrescenta funcionalidades novas, apenas cria formas mais simples e legíveis de realizar operações que já éramos capazes de realizar anteriormente.\n",
        "\n",
        "Internamente, o Python está usando lógica de criar e desempacotar tuplas para realizar esse tipo de operação."
      ],
      "metadata": {
        "id": "RNyYnz9IAzIp"
      }
    },
    {
      "cell_type": "markdown",
      "source": [
        "## Facilidades para iteração\n",
        "Sempre que possível, é preferível iterar uma coleção - seja ela uma lista ou uma tupla - de maneira direta utilizando for sem índices. Há alguns problemas onde pode ser difícil escapar do índice, pois nossa lógica irá depender de posição de alguma maneira.\n",
        "\n",
        "Veremos duas estruturas que irão nos auxiliar a fazer iteração por índice sem precisar utilizar uma estrutura pouco legível como:\n",
        "\n",
        "```python\n",
        "\n",
        "for indice in range(len(lista)):\n",
        "    ...\n",
        "    lista[indice] = ...\n",
        "    ...\n",
        "\n",
        "```"
      ],
      "metadata": {
        "id": "HwWSxvs1A70D"
      }
    },
    {
      "cell_type": "markdown",
      "source": [
        "### Enumerate\n",
        "Considere um problema qualquer onde o índice importa. Por exemplo, suponha que você possua uma lista de strings e gostaria de exibi-la intercalando uma em letra maiúscula e outra em letra minúscula (assim como frequentemente representamos tabelas intercalando as cores de suas linhas em editores de planilha para melhorar a legibilidade).\n",
        "\n",
        "A lógica desse problema poderia ser resolvida usando índice:"
      ],
      "metadata": {
        "id": "uDzzsIwSBHGh"
      }
    },
    {
      "cell_type": "code",
      "source": [
        "lista_frutas = ['abacate', 'banana', 'carambola', 'damasco', 'embaúba', 'framboesa', 'goiaba']\n",
        "\n",
        "for indice in range(len(lista_frutas)):\n",
        "    if indice % 2 == 0:\n",
        "        print(lista_frutas[indice].upper())\n",
        "    else:\n",
        "        print(lista_frutas[indice].lower())"
      ],
      "metadata": {
        "colab": {
          "base_uri": "https://localhost:8080/"
        },
        "id": "OI495QNTBK_3",
        "outputId": "3e180cc2-1af1-48a8-ceaf-3ad7722292ec"
      },
      "execution_count": null,
      "outputs": [
        {
          "output_type": "stream",
          "name": "stdout",
          "text": [
            "ABACATE\n",
            "banana\n",
            "CARAMBOLA\n",
            "damasco\n",
            "EMBAÚBA\n",
            "framboesa\n",
            "GOIABA\n"
          ]
        }
      ]
    },
    {
      "cell_type": "markdown",
      "source": [
        "Existe uma ferramenta em Python que pode nos ajudar a escrever de maneira mais pythonica, sem precisar acessar lista por índice: o enumerate. Primeiro, vamos entender o que ele faz e, em seguida, veremos como deixar o código mais limpo:\n",
        "\n"
      ],
      "metadata": {
        "id": "zZsNK3AkBQG1"
      }
    },
    {
      "cell_type": "code",
      "source": [
        "for x in enumerate(lista_frutas):\n",
        "    print(x)"
      ],
      "metadata": {
        "colab": {
          "base_uri": "https://localhost:8080/"
        },
        "id": "CCApnuCDBSua",
        "outputId": "4c6a91e0-ac89-46c1-bcca-8589a0cd6728"
      },
      "execution_count": null,
      "outputs": [
        {
          "output_type": "stream",
          "name": "stdout",
          "text": [
            "(0, 'abacate')\n",
            "(1, 'banana')\n",
            "(2, 'carambola')\n",
            "(3, 'damasco')\n",
            "(4, 'embaúba')\n",
            "(5, 'framboesa')\n",
            "(6, 'goiaba')\n"
          ]
        }
      ]
    },
    {
      "cell_type": "markdown",
      "source": [
        "O enumerate montou uma estrutura onde cada elemento é uma tupla, sendo o primeiro elemento da tupla um índice da lista, e o segundo o valor associado àquele índice. Aplicando desempacotamento de tupla no for, podemos ter, simultaneamente, índice e valor em variáveis separadas, na prática percorrendo a lista tanto por índice quanto por valor. Refazendo o exemplo das maiúsculas/minúsculas:\n",
        "\n"
      ],
      "metadata": {
        "id": "-OQKLBsuBVm1"
      }
    },
    {
      "cell_type": "code",
      "source": [
        "for indice, valor in enumerate(lista_frutas):\n",
        "    if indice % 2 == 0:\n",
        "        print(valor.upper())\n",
        "    else:\n",
        "        print(valor.lower())"
      ],
      "metadata": {
        "colab": {
          "base_uri": "https://localhost:8080/"
        },
        "id": "fDvqvtUgBZce",
        "outputId": "c0607223-1ab1-496f-f157-fe6e258fea52"
      },
      "execution_count": null,
      "outputs": [
        {
          "output_type": "stream",
          "name": "stdout",
          "text": [
            "ABACATE\n",
            "banana\n",
            "CARAMBOLA\n",
            "damasco\n",
            "EMBAÚBA\n",
            "framboesa\n",
            "GOIABA\n"
          ]
        }
      ]
    },
    {
      "cell_type": "markdown",
      "source": [
        "### Zip\n",
        "Vamos pensar em um problema onde precisamos percorrer duas listas simultaneamente. Por exemplo, considere que temos uma lista com os nomes de todos os alunos de uma turma, e outra com as notas, na mesma ordem. Como faríamos para acessar, simultaneamente, o nome de um aluno e a sua nota?\n",
        "\n",
        "Esse é um problema onde, a princípio, utilizaríamos índice. Se usarmos o mesmo índice nas duas listas, estamos na prática percorrendo ambas as listas simultaneamente:"
      ],
      "metadata": {
        "id": "OwAUJ_CjBpeR"
      }
    },
    {
      "cell_type": "code",
      "source": [
        "alunos = ['Paul', 'John', 'George', 'Ringo']\n",
        "notas = [10, 9.5, 7, 6]\n",
        "\n",
        "for indice in range(len(alunos)):\n",
        "    print(f'Aluno {alunos[indice]}: {notas[indice]}')"
      ],
      "metadata": {
        "colab": {
          "base_uri": "https://localhost:8080/"
        },
        "id": "eFSn7RGSBrVG",
        "outputId": "79859336-c227-42a0-be3f-759883eef2f5"
      },
      "execution_count": null,
      "outputs": [
        {
          "output_type": "stream",
          "name": "stdout",
          "text": [
            "Aluno Paul: 10\n",
            "Aluno John: 9.5\n",
            "Aluno George: 7\n",
            "Aluno Ringo: 6\n"
          ]
        }
      ]
    },
    {
      "cell_type": "markdown",
      "source": [
        "Vamos ver agora o zip em ação para compreender como ele funciona:\n",
        "\n"
      ],
      "metadata": {
        "id": "Qz6pzf1TBve8"
      }
    },
    {
      "cell_type": "code",
      "source": [
        "for x in zip(alunos, notas):\n",
        "    print(x)\n"
      ],
      "metadata": {
        "colab": {
          "base_uri": "https://localhost:8080/"
        },
        "id": "w1dJNq2WBxua",
        "outputId": "bb068711-23b1-459b-f611-104986038cb7"
      },
      "execution_count": null,
      "outputs": [
        {
          "output_type": "stream",
          "name": "stdout",
          "text": [
            "('Paul', 10)\n",
            "('John', 9.5)\n",
            "('George', 7)\n",
            "('Ringo', 6)\n"
          ]
        }
      ]
    },
    {
      "cell_type": "markdown",
      "source": [
        "Assim como no enumerate, o zip montou tuplas. Cada tupla representa 1 posição das listas originais, e cada posição dentro da tupla representa o dado de uma das listas. Ou seja, cada elemento do zip contém 1 elemento de cada lista original, na ordem que eles apareceram nas listas originais. Logo, ele permite percorrer 2 listas simultaneamente.\n",
        "\n",
        "Novamente podemos aplicar desempacotamento de tuplas em nosso loop e acessar os dados de cada lista individualmente de maneira legível:"
      ],
      "metadata": {
        "id": "T1nOTsYPB0DC"
      }
    },
    {
      "cell_type": "code",
      "source": [
        "alunos = ['Paul', 'John', 'George', 'Ringo']\n",
        "notas = [10, 9.5, 7, 6]\n",
        "\n",
        "for aluno, nota in zip(alunos, notas):\n",
        "    print(f'Aluno {aluno}: {nota}')"
      ],
      "metadata": {
        "colab": {
          "base_uri": "https://localhost:8080/"
        },
        "id": "WvKldlkPB2kQ",
        "outputId": "8ca3d687-da87-4900-af94-ab071c020142"
      },
      "execution_count": null,
      "outputs": [
        {
          "output_type": "stream",
          "name": "stdout",
          "text": [
            "Aluno Paul: 10\n",
            "Aluno John: 9.5\n",
            "Aluno George: 7\n",
            "Aluno Ringo: 6\n"
          ]
        }
      ]
    },
    {
      "cell_type": "markdown",
      "source": [
        "# Exercícios\n",
        "\n",
        "**Dica de estudo:** mesmo que você conheça ou prefira outras soluções, tente explorar ao máximo técnicas como slicing, unpacking, zip e enumerate.\n",
        "\n",
        "\n",
        "---\n",
        "\n",
        "\n"
      ],
      "metadata": {
        "id": "qkr_NKHkDEDg"
      }
    },
    {
      "cell_type": "markdown",
      "source": [
        "Faça um programa que leia as coordenadas de dois vetores a partir do teclado e armazene-as em listas. Exemplo:\n",
        "\n",
        "```\n",
        "vetor1 = [1, 4, 7]\n",
        "vetor2 = [2, 3, 4]\n",
        "```\n",
        "\n",
        "O seu programa deverá realizar a soma vetorial. No exemplo acima, ela é dada por:\n",
        "\n",
        "`soma = [1+2, 4+3, 7+4] = [3, 7, 11]`\n",
        "\n",
        "Dica: note que os valores a serem somados entre si possuem o mesmo índice em listas diferentes.\n",
        "\n"
      ],
      "metadata": {
        "id": "Ay_-WN2nLpkX"
      }
    },
    {
      "cell_type": "code",
      "source": [
        "v4 = input(\"Insira 3 numeros separados por virgula: \")\n",
        "v4 = v4.split(',')\n",
        "print(v4)\n",
        "v1 = [1,2,3]\n",
        "v2 = [4,5,6]\n",
        "v3 = []\n",
        "for i, j in zip(v1, v2):\n",
        "  v3.append(i + j)\n",
        "  \n",
        "print(v3)"
      ],
      "metadata": {
        "id": "82yiTJYKLqhC",
        "colab": {
          "base_uri": "https://localhost:8080/"
        },
        "outputId": "8d56790d-e0fe-4cb4-cc5c-4e539b40149a"
      },
      "execution_count": null,
      "outputs": [
        {
          "output_type": "stream",
          "name": "stdout",
          "text": [
            "Insira 3 numeros separados por virgula: 3,4,5\n",
            "['3', '4', '5']\n",
            "[5, 7, 9]\n"
          ]
        }
      ]
    },
    {
      "cell_type": "markdown",
      "source": [
        "Faça um programa que leia as coordenadas de dois vetores a partir do teclado e armazene-as em listas. Exemplo:\n",
        "\n",
        "```\n",
        "vetor1 = [1, 4, 7]\n",
        "vetor2 = [2, 3, 4]\n",
        "```\n",
        "\n",
        "O seu programa deverá realizar o produto escalar. No exemplo acima, ele é dado por:\n",
        "\n",
        "`produto = 1*2 + 4*3 + 7*4 = 42`\n",
        "\n",
        "Atenção: note que o produto escalar, apesar de ser uma operação entre vetores, possui como resultado um único número."
      ],
      "metadata": {
        "id": "hGvkh_ldLq2s"
      }
    },
    {
      "cell_type": "code",
      "source": [
        "v1 = [1,2,3]\n",
        "v2 = [4,5,6]\n",
        "produto = 0\n",
        "for i, j in zip(v1, v2):\n",
        "  produto += i * j\n",
        "  \n",
        "print(produto)"
      ],
      "metadata": {
        "id": "zNBbmH2qLuuD",
        "colab": {
          "base_uri": "https://localhost:8080/"
        },
        "outputId": "2a427a65-4eb0-4ceb-af98-b32e31fc6403"
      },
      "execution_count": null,
      "outputs": [
        {
          "output_type": "stream",
          "name": "stdout",
          "text": [
            "32\n"
          ]
        }
      ]
    },
    {
      "cell_type": "markdown",
      "source": [
        "Um **polinômio** é uma expressão matemática formada pela soma de diversos termos. Cada termo é o produto de uma constante conhecida e uma incógnita (tipicamente elevada a diferentes expoentes). Por exemplo:\n",
        "\n",
        "`y = 2x³ - 5x² + 3x + 4`\n",
        "\n",
        "Podemos representar computacionalmente um polinômio usando uma lista ou tupla. Salvamos os coeficientes na posição cujo índice represente o expoente do x. O polinômio do exemplo acima ficaria:\n",
        "\n",
        "`coeficientes = (4, 3, -5, 2)`\n",
        "\n",
        "Note que o número \"livre\" é considerado um produto de x elevado a 0. Caso algum expoente esteja ausente, considere seu coeficiente como 0. Exemplo:\n",
        "\n",
        "`y = 6x² - 2`\n",
        "\n",
        "O termo com expoente 1 está ausente, logo:\n",
        "\n",
        "`coeficientes = (-2, 0, 6)`\n",
        "\n",
        "Faça uma função que recebe dois parâmetros: uma coleção de coeficientes e um valor de x, e retorna o valor do polinômio para o valor de x dado."
      ],
      "metadata": {
        "id": "I80t0cirIo0i"
      }
    },
    {
      "cell_type": "code",
      "source": [
        "coeficientes = (4, 3, 0, 1)\n",
        "valor_x = 1\n",
        "resultado = 0\n",
        "for indice, coeficiente in enumerate(coeficientes):\n",
        "  resultado += coeficiente * valor_x ** indice  \n",
        "print(resultado)"
      ],
      "metadata": {
        "id": "7oUBcMZLIqmG",
        "colab": {
          "base_uri": "https://localhost:8080/"
        },
        "outputId": "19489985-7835-4c6b-af25-916b1e7c555c"
      },
      "execution_count": null,
      "outputs": [
        {
          "output_type": "stream",
          "name": "stdout",
          "text": [
            "8\n"
          ]
        }
      ]
    },
    {
      "cell_type": "markdown",
      "source": [
        "Quando temos uma **função polinomial**, podemos calcular sua taxa de variação (ou derivada) aplicando a \"regra do tombo\": multiplicamos o coeficiente pelo seu expoente, e subtraímos 1 do expoente.\n",
        "\n",
        "Considere o primeiro polinômio de exemplo do enunciado anterior:\n",
        "\n",
        "`y = 2x³ - 5x² + 3x + 4`\n",
        "\n",
        "Sua derivada será dada por:\n",
        "\n",
        "`y' = 3*2x² - 2*5x + 3*1 + 4*0`\n",
        "\n",
        "Logo:\n",
        "\n",
        "`y' = 6x² - 10x + 3`\n",
        "\n",
        "Note que **a ordem** do polinônio resultante é menor do que a do polinômio original, e que termos constantes desaparecem (pois são multiplicados pelo expoente zero).\n",
        "\n",
        "Faça uma função que recebe uma tupla contendo os coeficientes de um polinômio. Sua função deverá retornar uma tupla contendo os coeficientes de sua derivada."
      ],
      "metadata": {
        "id": "vXyZGVN9JbTA"
      }
    },
    {
      "cell_type": "code",
      "source": [
        "def derivada(coeficientes):\n",
        "  resultado = []\n",
        "  for indice, coeficiente in enumerate(coeficientes):\n",
        "    resultado.append(indice*coeficiente)\n",
        "  _, *novos_coeficientes = resultado\n",
        "  novos_coeficientes = tuple(novos_coeficientes)\n",
        "  return novos_coeficientes\n",
        "\n",
        "coeficientes = (4, 3, 2, 1)\n",
        "derivada(coeficientes)"
      ],
      "metadata": {
        "id": "QAzeTm05Jad_",
        "colab": {
          "base_uri": "https://localhost:8080/"
        },
        "outputId": "324718d8-72be-4f15-d089-bb88c5e83f47"
      },
      "execution_count": null,
      "outputs": [
        {
          "output_type": "execute_result",
          "data": {
            "text/plain": [
              "(3, 4, 3)"
            ]
          },
          "metadata": {},
          "execution_count": 39
        }
      ]
    },
    {
      "cell_type": "markdown",
      "source": [
        "Faça uma função que recebe como parâmetro um número indicando a quantidade de provas que um aluno fez. \n",
        "\n",
        "A função deverá pedir para o usuário digitar todas as suas notas e retornar uma tupla contendo todas as notas na ordem em que foram digitadas."
      ],
      "metadata": {
        "id": "esF7Zv88IR3G"
      }
    },
    {
      "cell_type": "code",
      "source": [
        "def conta_nota(qtd):\n",
        "  notas= []\n",
        "  for i in range(qtd):\n",
        "    nota = float(input(f'Digite a nota {i + 1}: '))\n",
        "    notas.append(nota)\n",
        "  notas = tuple(notas)  \n",
        "  return notas\n",
        "qtd_provas = int(input('Quantas provas o aluno fez: '))\n",
        "conta_nota(qtd_provas)\n",
        "\n"
      ],
      "metadata": {
        "id": "mphDRkDGDuXg",
        "colab": {
          "base_uri": "https://localhost:8080/"
        },
        "outputId": "d852bf7c-de69-4f2c-d549-acf4157b7431"
      },
      "execution_count": null,
      "outputs": [
        {
          "name": "stdout",
          "output_type": "stream",
          "text": [
            "Quantas provas o aluno fez: 3\n",
            "Digite a nota 1:2\n",
            "Digite a nota 2:8\n",
            "Digite a nota 3:6\n"
          ]
        },
        {
          "output_type": "execute_result",
          "data": {
            "text/plain": [
              "(2.0, 8.0, 6.0)"
            ]
          },
          "metadata": {},
          "execution_count": 35
        }
      ]
    },
    {
      "cell_type": "markdown",
      "source": [
        "Faça uma função que recebe como parâmetros uma coleção (lista ou tupla) de notas.\n",
        "\n",
        "O programa deverá retornar uma tupla nova contendo todas as notas antigas, e, na última posição, a média das notas."
      ],
      "metadata": {
        "id": "8vjMXB9fDvAm"
      }
    },
    {
      "cell_type": "code",
      "source": [
        "notas = (3, 4, 5)\n",
        "novas_notas = []\n",
        "media = 0\n",
        "for i in notas:\n",
        "  novas_notas.append(i)\n",
        "  media += i\n",
        "media = media / len(notas)\n",
        "novas_notas.append(media)\n",
        "print(novas_notas)"
      ],
      "metadata": {
        "id": "zhNp1-yEEDXv",
        "colab": {
          "base_uri": "https://localhost:8080/"
        },
        "outputId": "14ee389d-c11d-4b04-a7c8-4abaf6c44395"
      },
      "execution_count": null,
      "outputs": [
        {
          "output_type": "stream",
          "name": "stdout",
          "text": [
            "[3, 4, 5, 4.0]\n"
          ]
        }
      ]
    },
    {
      "cell_type": "markdown",
      "source": [
        "\n",
        "Faça uma função que recebe dois parâmetros: uma lista/tupla de notas (contendo, obrigatoriamente, a média na última posição) e uma nota mínima para aprovação.\n",
        "\n",
        "A função deverá retornar uma tupla nova contendo todo o conteúdo da lista original, e, na última posição, a sigla \"APR\" ou \"REP\" indicando se o aluno está aprovado."
      ],
      "metadata": {
        "id": "qa_NzOgVED0l"
      }
    },
    {
      "cell_type": "code",
      "source": [
        "def calcula_notas(notas, nota_aprovacao):\n",
        "  if notas[-1] >= nota_aprovacao:\n",
        "    notas.append('APV')\n",
        "  else:\n",
        "    notas.append('REP')\n",
        "\n",
        "  novas_notas = tuple(notas)\n",
        "  return novas_notas\n",
        "\n",
        "notas = [6, 8, 4]\n",
        "for i in notas:\n",
        "  media += i\n",
        "media = media / len(notas)\n",
        "notas.append(media)\n",
        "nota_aprovacao = int(input('Insira qual será a média de aprovação: '))\n",
        "calcula_notas(notas, nota_aprovacao)"
      ],
      "metadata": {
        "id": "aTmupPQoEfNS",
        "colab": {
          "base_uri": "https://localhost:8080/"
        },
        "outputId": "b01706da-6684-436f-d093-d1067c06455c"
      },
      "execution_count": null,
      "outputs": [
        {
          "name": "stdout",
          "output_type": "stream",
          "text": [
            "Insira qual será a média de aprovação: 6\n"
          ]
        },
        {
          "output_type": "execute_result",
          "data": {
            "text/plain": [
              "(6, 8, 4, 7.333333333333333, 'APV')"
            ]
          },
          "metadata": {},
          "execution_count": 45
        }
      ]
    },
    {
      "cell_type": "markdown",
      "source": [
        "\n",
        "Utilizando as funções criadas nos exercícios anteriores, elabore um programa para gerenciar uma turma.\n",
        "\n",
        "Ele terá uma lista de notas, que irá conter todas as tuplas individuais de cada aluno.\n",
        "\n",
        "Ele também terá uma lista de nomes dos alunos.\n",
        "\n",
        "Seu programa deverá sempre exibir um menu oferecendo as seguintes opções:\n",
        "\n",
        "```\n",
        "1) Cadastrar novo aluno\n",
        "2) Visualizar aluno\n",
        "3) Exibir todos aprovados\n",
        "4) Exibir todos reprovados\n",
        "```\n",
        "\n",
        "Na opção 1, após digitar o nome do aluno, o professor já irá digitar suas notas e o programa irá calcular sua média e determinar seu status (APR/REP).\n",
        "\n",
        "Na opção 2, caso o nome do aluno exista, o programa deverá exibir suas notas, sua média e seu status (APR/REP).\n",
        "\n",
        "Nas opções 3 e 4, o programa exibirá o nome e média de cada aluno.\n"
      ],
      "metadata": {
        "id": "ZB_MPAi5Ez5R"
      }
    },
    {
      "cell_type": "code",
      "source": [
        "def calcula_notas(notas, nota_aprovacao):\n",
        "  if notas[-1] >= nota_aprovacao:\n",
        "    notas.append('APV')\n",
        "  else:\n",
        "    notas.append('REP')\n",
        "\n",
        "  novas_notas = tuple(notas)\n",
        "  return novas_notas\n",
        "\n",
        "notas= []\n",
        "\n",
        "def cadastra_nota():\n",
        "  nota_individual=[]\n",
        "  media = 0\n",
        "  nome = input('Insira o nome do aluno: ')\n",
        "  qtd = int(input('Quantas notas você deseja inserir: '))\n",
        "  nota_individual.append(nome)\n",
        "  for i in range(qtd): # cadastrando notas\n",
        "    nota = float(input(f'Digite a nota {i + 1}: '))\n",
        "    nota_individual.append(nota)\n",
        "    media += nota\n",
        "  media = media / qtd\n",
        "  nota_individual.append(media) #Adicionando a média\n",
        "  nota_aprovacao = 6\n",
        "  nota_individual = calcula_notas(nota_individual, nota_aprovacao) #Verificando aprovação\n",
        "  nota_individual = tuple(nota_individual)\n",
        "  notas.append(nota_individual)  #salvando a tupla\n",
        "  return 'Cadastro feito com sucesso!'\n",
        "\n",
        "def procura_aprovado():\n",
        "  aprovados = []\n",
        "  for j in notas:\n",
        "    if j[-1] == \"APV\":\n",
        "      aprovados.append(j)\n",
        "  return(aprovados)\n",
        "\n",
        "def procura_reprovado():\n",
        "  aprovados = []\n",
        "  for j in notas:\n",
        "    if j[-1] == \"REP\":\n",
        "      aprovados.append(j)\n",
        "  return(aprovados)\n",
        "\n",
        "def procura_aluno(aluno):\n",
        "  verificador = False\n",
        "  for l in notas:\n",
        "    if l[0] == aluno:\n",
        "      verificador = True\n",
        "      return l\n",
        "  if verificador == False:\n",
        "    return 'O aluno não existe'\n",
        "\n",
        "def menu(op):\n",
        "  if op == 1:\n",
        "    return cadastra_nota()\n",
        "  elif op == 2:\n",
        "    aluno = input('Insira o nome do aluno: ')\n",
        "    return procura_aluno(aluno)\n",
        "  elif op == 3:\n",
        "    return procura_aprovado()\n",
        "  elif op == 4:\n",
        "    return procura_reprovado()\n",
        "  else:\n",
        "    return 'Opção inválida'\n",
        "\n",
        "print('Programa de notas')\n",
        "\n",
        "while (True):\n",
        "  print('''  Digite 1 para cadastrar um novo aluno \n",
        "  Digite 2 para procurar um aluno\n",
        "  Digite 3 para exibir os alunos aprovados \n",
        "  Digite 4 para exibir os alunos reprovados \n",
        "  Digite 5 para sair do sistema ''')\n",
        "  op = int(input('Digite a opção desejada: '))\n",
        "  if op == 5:\n",
        "    break\n",
        "  print(menu(op))\n"
      ],
      "metadata": {
        "id": "rYmVF4shFw7A",
        "colab": {
          "base_uri": "https://localhost:8080/"
        },
        "outputId": "2ecf8ef0-fd94-4334-c158-291a6f35a00b"
      },
      "execution_count": null,
      "outputs": [
        {
          "name": "stdout",
          "output_type": "stream",
          "text": [
            "Programa de notas\n",
            "  Digite 1 para cadastrar um novo aluno \n",
            "  Digite 2 para procurar um aluno\n",
            "  Digite 3 para exibir os alunos aprovados \n",
            "  Digite 4 para exibir os alunos reprovados \n",
            "  Digite 5 para sair do sistema \n",
            "Digite a opção desejada: 5\n"
          ]
        }
      ]
    }
  ]
}