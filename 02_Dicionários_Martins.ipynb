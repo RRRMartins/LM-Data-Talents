{
  "nbformat": 4,
  "nbformat_minor": 0,
  "metadata": {
    "colab": {
      "provenance": [],
      "include_colab_link": true
    },
    "kernelspec": {
      "name": "python3",
      "display_name": "Python 3"
    },
    "language_info": {
      "name": "python"
    }
  },
  "cells": [
    {
      "cell_type": "markdown",
      "metadata": {
        "id": "view-in-github",
        "colab_type": "text"
      },
      "source": [
        "<a href=\"https://colab.research.google.com/github/RRRMartins/LM-Data-Talents/blob/main/02_Dicion%C3%A1rios_Martins.ipynb\" target=\"_parent\"><img src=\"https://colab.research.google.com/assets/colab-badge.svg\" alt=\"Open In Colab\"/></a>"
      ]
    },
    {
      "cell_type": "markdown",
      "source": [
        "# Dicionários\n",
        "Você provavelmente já viu diversas tabelas onde cada coluna representa uma informação diferente sobre uma pessoa, evento ou objeto. Por exemplo, cada linha pode representar um aluno. A primeira coluna pode ser o nome do aluno, as quatro colunas seguintes podem ser suas notas em provas, a sexta coluna pode ser sua média, a sétima pode ser suas presenças, a oitava pode ser seu status (aprovado ou reprovado) e a nona pode conter algumas observações.\n",
        "\n",
        "Em programação, as linhas de uma tabela poderiam ser representadas por listas. Neste caso, o índice 0 de cada linha seria sempre o nome, os índices 1 a 4 seriam as notas, o índice 5 seria a média, e assim sucessivamente. Porém, isso nem sempre convém, porque:\n",
        "\n",
        "- expressões como `lista[1] + lista[2] + lista[3] + lista[4]` nos trazem pouca informação sobre o que significam os dados envolvidos na operação;\n",
        "\n",
        "- caso seja necessário alterar a estrutura de dados para inserir, por exemplo, mais notas, seria necessário adaptar todo o código alterando todos os números mágicos representando cada coluna;\n",
        "\n",
        "Seria preferível referenciarmos o nome do aluno por 'nome', suas notas poderiam ser uma lista chamada 'notas', sua média poderia ser chamada 'media', e assim sucessivamente. Aqui entram os dicionários, também conhecidos em outras linguagens como tabelas hash, hash maps, entre outros."
      ],
      "metadata": {
        "id": "pEM5GDMykgiO"
      }
    },
    {
      "cell_type": "markdown",
      "source": [
        "## Dicionários em Python\n",
        "Quando utilizamos um dicionário (o de papel, com definições), não temos o hábito de procurar pela palavra que está em uma determinada posição. Ao invés disso, nós buscamos pela palavra em si, e ao encontrá-la ela contém uma definição.\n",
        "\n",
        "A estrutura dicionário em Python é uma coleção de dados. Porém, ela não é indexada. Ao adicionarmos elementos em um dicionário, sempre o fazemos aos pares: todo elemento terá uma chave e um valor.\n",
        "\n",
        "A chave será uma string que utilizaremos como se fosse o índice. É como se fosse a palavra que buscamos em um dicionário de papel.\n",
        "\n",
        "O valor pode ser qualquer dado: um int, um float, uma str, um bool, uma lista, uma tupla, outro dicionário. Ele é como se fosse a definição que encontramos vinculada à palavra que buscamos no dicionário de papel.\n",
        "\n",
        "### Criando um dicionário\n",
        "Separamos chave e valor utilizando dois pontos (`:`), e separamos um par de outro utilizando vírgula. Utilizamos o símbolo chave (`{` e `}`) para representar um dicionário. O exemplo abaixo representa um aluno como descrito no início do capítulo."
      ],
      "metadata": {
        "id": "Oe9hwLU9kl73"
      }
    },
    {
      "cell_type": "code",
      "source": [
        "aluno = {'nome':'Mario', 'notas':[7, 9, 5, 6], 'presencas':0.8}"
      ],
      "metadata": {
        "id": "Bvpk6heWku_p"
      },
      "execution_count": null,
      "outputs": []
    },
    {
      "cell_type": "markdown",
      "source": [
        "Podemos acessar uma informação de um dicionário utilizando a sua chave da mesma maneira que utilizamos um índice em uma lista:\n",
        "\n"
      ],
      "metadata": {
        "id": "S4Z3n1QSkxS1"
      }
    },
    {
      "cell_type": "code",
      "source": [
        "print('Aluno:', aluno['nome']) # Aluno: Mario\n",
        "print('Notas:', aluno['notas']) # Notas: [7, 9, 5, 6]"
      ],
      "metadata": {
        "id": "1UP8hEaRkz6E"
      },
      "execution_count": null,
      "outputs": []
    },
    {
      "cell_type": "markdown",
      "source": [
        "Também é possível criar dicionários através da função `dict`. Ela pode ser utilizada de diferentes maneiras. Uma delas é passando parâmetros com nomes. Os nomes dos parâmetros se tornarão chaves, e os valores associados serão valores:"
      ],
      "metadata": {
        "id": "KzeQr3wTk2N5"
      }
    },
    {
      "cell_type": "code",
      "source": [
        "notas = dict(Ana = 7, Brenda = 10, Carlos = 8)\n",
        "print(notas) # resultado: {'Ana': 7, 'Brenda': 10, 'Carlos': 8}"
      ],
      "metadata": {
        "id": "QOMKHVNmk6ks"
      },
      "execution_count": null,
      "outputs": []
    },
    {
      "cell_type": "markdown",
      "source": [
        "Outra possibilidade é utilizar uma coleção (como uma lista ou uma tupla) contendo, internamente, outras coleções com exatamente 2 elementos. O primeiro elemento será chave, o segundo será valor. O exemplo abaixo cria o mesmo dicionário do exemplo anterior:"
      ],
      "metadata": {
        "id": "jNxb8WMdk8eF"
      }
    },
    {
      "cell_type": "code",
      "source": [
        "lista = [['Ana', 7], ['Brenda', 10], ['Carlos', 8]]\n",
        "dicionario = dict(lista)\n",
        "print(dicionario)"
      ],
      "metadata": {
        "id": "A9h2dNG8k_f5"
      },
      "execution_count": null,
      "outputs": []
    },
    {
      "cell_type": "markdown",
      "source": [
        "Caso você tenha suas chaves e valores em coleções separadas, uma maneira fácil de explorar a possibilidade anterior é utilizar um zip:\n",
        "\n"
      ],
      "metadata": {
        "id": "LG7GHjbclDCP"
      }
    },
    {
      "cell_type": "code",
      "source": [
        "nomes = ['Ana', 'Brenda', 'Carlos']\n",
        "notas = [7, 10, 8]\n",
        "dicionario_notas = dict(zip(nomes, notas))"
      ],
      "metadata": {
        "id": "na_g8cFglFQH"
      },
      "execution_count": null,
      "outputs": []
    },
    {
      "cell_type": "markdown",
      "source": [
        "### Adicionando elementos em um dicionário\n",
        "Para adicionar elementos, não precisamos de uma função pronta (como o append das listas). Basta \"acessar\" a nova chave e atribuir um novo valor."
      ],
      "metadata": {
        "id": "aTpigRsJlJLL"
      }
    },
    {
      "cell_type": "code",
      "source": [
        "aluno['media'] = sum(aluno['notas'])/len(aluno['notas'])\n",
        "\n",
        "aluno['aprovado'] = aluno['media'] >= 6.0 and aluno['presencas'] >= 0.7\n",
        "\n",
        "print(aluno)"
      ],
      "metadata": {
        "id": "6AcpLiZYlKsV"
      },
      "execution_count": null,
      "outputs": []
    },
    {
      "cell_type": "markdown",
      "source": [
        "### Percorrendo um dicionário\n",
        "Dicionários podem ser percorridos com um for. Ao fazer isso, as chaves serão percorridas, não os valores. Porém, a partir da chave obtém-se o valor:"
      ],
      "metadata": {
        "id": "hK4lsOEvlTCz"
      }
    },
    {
      "cell_type": "code",
      "source": [
        "for chave in aluno:\n",
        "    print(chave, '--->', aluno[chave])"
      ],
      "metadata": {
        "id": "dICnCZLIlV04"
      },
      "execution_count": null,
      "outputs": []
    },
    {
      "cell_type": "markdown",
      "source": [
        "### Testando a existência de uma chave\n",
        "Antes de criar uma chave nova em um dicionário, convém testar se ela já existe, para evitar sobrescrever um valor. Podemos fazer isso com o operador in (sim, o mesmo que usamos no for!). Neste contexto, ele retornará True se a chave existir e False caso contrário.\n",
        "\n",
        "Vamos supor que, no exemplo abaixo, o valor de 'cursos' seja uma lista com todos os cursos que o usuário está fazendo."
      ],
      "metadata": {
        "id": "oG7c_yhHlYoJ"
      }
    },
    {
      "cell_type": "code",
      "source": [
        "dicionario = {'escola':\"Let's Code\", 'unidade':'Faria Lima'}\n",
        "\n",
        "# Neste caso, 'cursos' ainda não existe.\n",
        "# Cairemos no else e será criada uma lista com a string 'Python'.\n",
        "\n",
        "if 'cursos' in dicionario:\n",
        "    dicionario['cursos'].append('Python')\n",
        "else:\n",
        "    dicionario['cursos'] = ['Python']\n",
        "\n",
        "# Agora a chave já existe. \n",
        "# Portanto, será adicionado 'Data Science' à lista. \n",
        "if 'cursos' in dicionario:\n",
        "    dicionario['cursos'].append('Data Science')\n",
        "else:\n",
        "    dicionario['cursos'] = ['Data Science']\n",
        "\n",
        "print(dicionario)"
      ],
      "metadata": {
        "id": "ScEBfmsMlbqF"
      },
      "execution_count": null,
      "outputs": []
    },
    {
      "cell_type": "markdown",
      "source": [
        "## Métodos de dicionários\n",
        "Você deve ter notado que algumas coisas que fazíamos em listas utilizando métodos (funções), em dicionários fazemos de maneira mais direta. Mas dicionários também possuem seus próprios métodos. Iremos estudar alguns bastante utilizados, mas você pode acessar [essa página](https://www.w3schools.com/python/python_ref_dictionary.asp) caso queira conhecer mais.\n",
        "\n",
        "### Acessando valores de maneira segura\n",
        "Quando tentamos acessar uma chave que não existe em um dicionário ocorre um erro. Vimos que uma forma de driblar isso é testar a existência dela utilizando o in. Alguns métodos nos ajudam a \"economizar\" este teste.\n",
        "\n",
        "#### get\n",
        "O método get permite acessar uma chave sem a ocorrência de erro. Caso uma chave não exista, ele irá retornar None, a constante nula denotando a ausência de valor."
      ],
      "metadata": {
        "id": "LMjl2950leVT"
      }
    },
    {
      "cell_type": "code",
      "source": [
        "nomes = ['Ana', 'Brenda', 'Carlos']\n",
        "notas = [7, 10, 8]\n",
        "dicionario_notas = dict(zip(nomes, notas))\n",
        "\n",
        "nota_daniel = dicionario_notas.get('Daniel') # valor de nota_daniel: None\n",
        "nota_eliza = dicionario_notas['Eliza'] # erro de chave inexistente"
      ],
      "metadata": {
        "id": "C4TpT_VXlseX"
      },
      "execution_count": null,
      "outputs": []
    },
    {
      "cell_type": "markdown",
      "source": [
        "O get aceita como parâmetro opcional um valor padrão que será retornado ao invés de None caso a chave não exista:"
      ],
      "metadata": {
        "id": "w5nD293nlvvS"
      }
    },
    {
      "cell_type": "code",
      "source": [
        "nota_brenda = dicionario_notas.get('Brenda', 0) # valor de nota_brenda: 10\n",
        "nota_daniel = dicionario_notas.get('Daniel', 0) # valor de nota_daniel: 0"
      ],
      "metadata": {
        "id": "N3Lb8CKAlzl7"
      },
      "execution_count": null,
      "outputs": []
    },
    {
      "cell_type": "markdown",
      "source": [
        "#### setdefault\n",
        "Um caso específico que vimos foi quando desejamos inserir uma chave caso ela não exista ou acessar seu valor caso ela exista. O método setdefault faz exatamente isso. Passamos uma chave e um valor. Se a chave for encontrada, seu valor é retornado. Caso contrário, ela é inserida com o valor passado. Vamos refazer o exemplo do in utilizando este método:"
      ],
      "metadata": {
        "id": "9SDefrpBl2h4"
      }
    },
    {
      "cell_type": "code",
      "source": [
        "dicionario = {'escola':\"Let's Code\", 'unidade':'Faria Lima'}\n",
        "cursos = dicionario.setdefault('cursos', ['Python'])\n",
        "print(cursos) # resultado na tela: ['Python']\n",
        "cursos.append('Data Science')\n",
        "print(dicionario['cursos']) # resultado na tela: ['Python', 'Data Science']"
      ],
      "metadata": {
        "id": "5gpDMOiWl9Cv"
      },
      "execution_count": null,
      "outputs": []
    },
    {
      "cell_type": "markdown",
      "source": [
        "### Copiando dicionários\n",
        "#### Criando um novo dicionário\n",
        "Quando você já possui um dicionário e gostaria de copiar todo o seu conteúdo para outro dicionário, assim como no caso da lista, você não deve fazer uma atribuição direta, pois não houve cópia, e sim duas variáveis referenciando o mesmo dicionário na memória:"
      ],
      "metadata": {
        "id": "kJfDIV-RmC5b"
      }
    },
    {
      "cell_type": "code",
      "source": [
        "nomes = ['Ana', 'Brenda', 'Carlos']\n",
        "notas = [7, 10, 8]\n",
        "dicionario_notas = dict(zip(nomes, notas))\n",
        "dicionario_notas_copia = dicionario_notas\n",
        "\n",
        "dicionario_notas_copia['Ana'] = 0\n",
        "print(dicionario_notas['Ana']) # resultado: 0"
      ],
      "metadata": {
        "id": "NzJRU5JmmHce"
      },
      "execution_count": null,
      "outputs": []
    },
    {
      "cell_type": "markdown",
      "source": [
        "Para copiar de fato o dicionário você pode utilizar o método copy:\n",
        "\n"
      ],
      "metadata": {
        "id": "V-ohwsxomJ8X"
      }
    },
    {
      "cell_type": "code",
      "source": [
        "nomes = ['Ana', 'Brenda', 'Carlos']\n",
        "notas = [7, 10, 8]\n",
        "dicionario_notas = dict(zip(nomes, notas))\n",
        "dicionario_notas_copia = dicionario_notas.copy()\n",
        "\n",
        "dicionario_notas_copia['Ana'] = 0\n",
        "print(dicionario_notas['Ana']) # resultado: 7\n",
        "print(dicionario_notas_copia['Ana']) # resultado: 0"
      ],
      "metadata": {
        "id": "AMVyKfZamMSx"
      },
      "execution_count": null,
      "outputs": []
    },
    {
      "cell_type": "markdown",
      "source": [
        "#### Copiar um dicionário para dicionário já existente\n",
        "Imagine que você já possui dois dicionários distintos e gostaria de uni-los, copiando os pares chave-valor de um deles para o outro. Você pode fazer isso utilizando o método update."
      ],
      "metadata": {
        "id": "IUVY0Dc0mPr1"
      }
    },
    {
      "cell_type": "code",
      "source": [
        "escola = {'escola':\"Let's Code\", 'unidade':'Faria Lima'}\n",
        "mais_escola = {'trilhas':['Data Science', 'Web Full Stack'], 'formato':'online'}\n",
        "\n",
        "escola.update(mais_escola)\n",
        "\n",
        "print(escola)"
      ],
      "metadata": {
        "id": "XyS5XPrWmSbf"
      },
      "execution_count": null,
      "outputs": []
    },
    {
      "cell_type": "markdown",
      "source": [
        "### Removendo elementos de um dicionário\n",
        "Você pode remover um elemento de um dicionário através do método pop. Você deve passar a chave a ser removida."
      ],
      "metadata": {
        "id": "dU_ihpfXmV0F"
      }
    },
    {
      "cell_type": "code",
      "source": [
        "aluno = {'nome':'Mario', 'notas':[7, 9, 5, 6], 'presencas':0.8}\n",
        "aluno.pop('presencas')\n",
        "print(aluno) # resultado: {'nome': 'Mario', 'notas': [7, 9, 5, 6]}"
      ],
      "metadata": {
        "id": "8gTR4XwdmYts"
      },
      "execution_count": null,
      "outputs": []
    },
    {
      "cell_type": "markdown",
      "source": [
        "### Separando chaves e valores\n",
        "O Python possui funções para obter, separadamente, todas as chaves ou todos os valores de um dicionário. Elas são, respectivamente, keys e values. Podemos transformar o retorno dessa função em uma lista ou tupla."
      ],
      "metadata": {
        "id": "M9I_3j0Smc9E"
      }
    },
    {
      "cell_type": "code",
      "source": [
        "aluno = {'nome':'Mario', 'notas':[7, 9, 5, 6], 'presencas':0.8}\n",
        "\n",
        "chaves = list(aluno.keys())\n",
        "valores = list(aluno.values())\n",
        "\n",
        "print('Chaves: ', chaves)\n",
        "print('Valores:', valores)"
      ],
      "metadata": {
        "id": "tjpAoIxWmfsz"
      },
      "execution_count": null,
      "outputs": []
    },
    {
      "cell_type": "markdown",
      "source": [
        "Combinando essas funções com o zip estudado em um capítulo anterior, podemos iterar chaves e valores simultaneamente de maneira bastante pythonica:\n",
        "\n",
        "```python\n",
        "for chave, valor in zip(aluno.keys(), aluno.values()):\n",
        "    ...\n",
        "```\n",
        "\n",
        "Note que a construção acima também pode ser substituída por um método. O método items retorna uma coleção de tuplas, onde cada tupla contém um par chave-valor do dicionário:"
      ],
      "metadata": {
        "id": "-pzV_jTcmiSD"
      }
    },
    {
      "cell_type": "code",
      "source": [
        "print(aluno.items())\n"
      ],
      "metadata": {
        "id": "Lk55ryFVmh14"
      },
      "execution_count": null,
      "outputs": []
    },
    {
      "cell_type": "markdown",
      "source": [
        "Portanto, podemos fazer:\n",
        "\n",
        "```python\n",
        "for chave, valor in aluno.items():\n",
        "    ...\n",
        "```\n",
        "\n",
        "> Após o capítulo sobre tuplas, onde foram abordadas questões de desempenho, você pode estar se perguntando quão eficiente ou ineficiente é um dicionário. Surpreendentemente, ele é uma estrutura bastante rápida para consulta. Isso se deve à forma como ele é implementado.\n",
        "\n",
        "> O motivo para um de seus nomes ser tabela hash é que ele utiliza o conceito de hash. De maneira simplificada, hash é um valor numérico obtido a partir de um dado quando realizamos uma sequência de operações sobre esse dado. Essas operações devem ser tais que se o dado mudar, o valor numérico também deve mudar. Quando dois dados diferentes podem gerar o mesmo número, chamamos isso de colisão de hash, e isso é bastante indesejável.\n",
        "\n",
        "> Quando o dicionário é criado, uma faixa tamanho razoável de memória é alocada para ele. Quando passamos uma chave, o computador calcula o hash dessa chave e utiliza o hash como índice para acessar o dado na memória! . Inclusive, quando citamos acima que uma chave deve ser uma string, isso foi uma simplificação. Qualquer tipo de dado imutável (como uma tupla ou uma constante numérica) pode servir como chave. Objetos personalizados também podem, desde que eles sejam hashable. . Você pode consultar um tutorial mais básico sobre dicionários [aqui](https://realpython.com/python-dicts/), focado em diferentes funções úteis. Já [aqui](https://realpython.com/python-hash-table/) temos um tutorial mais avançado, que ensina você a criar uma estrutura semelhante a um dicionário do zero, explicando os conceitos envolvidos em cada passo."
      ],
      "metadata": {
        "id": "z7BGBk06muyZ"
      }
    },
    {
      "cell_type": "markdown",
      "source": [
        "# Exercícios\n",
        "\n",
        "1. Crie um dicionário cujas chaves são os meses do ano e os valores são \n",
        "a duração (em dias) de cada mês. \n"
      ],
      "metadata": {
        "id": "LU-eONgwnPTb"
      }
    },
    {
      "cell_type": "code",
      "source": [
        "meses = {'Janeiro': 31, 'Fevereiro': 28, 'Março' : 31, 'Abril' : 30, 'Maio': 31, 'Junho' : 30, 'Julho' : 31, 'Agosto': 31, 'Setembro': 30, 'Outubro': 31, 'Novembro': 30, 'Dezembro' : 31}\n",
        "meses\n",
        "\n"
      ],
      "metadata": {
        "id": "xPLCmpacoLrx",
        "colab": {
          "base_uri": "https://localhost:8080/"
        },
        "outputId": "409990ea-5a7c-4fdd-ac57-a7e9a49dcc4c"
      },
      "execution_count": null,
      "outputs": [
        {
          "output_type": "execute_result",
          "data": {
            "text/plain": [
              "{'Janeiro': 31,\n",
              " 'Fevereiro': 28,\n",
              " 'Março': 31,\n",
              " 'Abril': 30,\n",
              " 'Maio': 31,\n",
              " 'Junho': 30,\n",
              " 'Julho': 31,\n",
              " 'Agosto': 31,\n",
              " 'Setembro': 30,\n",
              " 'Outubro': 31,\n",
              " 'Novembro': 30,\n",
              " 'Dezembro': 31}"
            ]
          },
          "metadata": {},
          "execution_count": 2
        }
      ]
    },
    {
      "cell_type": "markdown",
      "source": [
        "2. Imprima as chaves seguidas dos seus valores para dicionário criado \n",
        "no exercício 1. \n",
        "Exemplo:\n",
        "``` \n",
        " Janeiro - 31 \n",
        " Fevereiro - 28 \n",
        " Março - 31 \n",
        " ...\n",
        " ```"
      ],
      "metadata": {
        "id": "peTyoG_7oMQ3"
      }
    },
    {
      "cell_type": "code",
      "source": [
        "for chave in meses:\n",
        "  print(chave, ' - ', meses[chave])"
      ],
      "metadata": {
        "id": "hzgw-LV4oT-M",
        "colab": {
          "base_uri": "https://localhost:8080/"
        },
        "outputId": "fe942f58-0b10-4bc9-ba70-6f865bc67c6f"
      },
      "execution_count": null,
      "outputs": [
        {
          "output_type": "stream",
          "name": "stdout",
          "text": [
            "Janeiro  -  31\n",
            "Fevereiro  -  28\n",
            "Março  -  31\n",
            "Abril  -  30\n",
            "Maio  -  31\n",
            "Junho  -  30\n",
            "Julho  -  31\n",
            "Agosto  -  31\n",
            "Setembro  -  30\n",
            "Outubro  -  31\n",
            "Novembro  -  30\n",
            "Dezembro  -  31\n"
          ]
        }
      ]
    },
    {
      "cell_type": "markdown",
      "source": [
        "3. Crie uma função que receba os valores do nome, idade e e-mail de \n",
        "uma pessoa e guarde-os em um dicionário com as chaves ‘nome’, \n",
        "‘idade’ e ‘email’, respectivamente. Sua função deve retornar esse \n",
        "dicionário. "
      ],
      "metadata": {
        "id": "OCB0pF3toVEP"
      }
    },
    {
      "cell_type": "code",
      "source": [
        "def cadastrar(nome, idade, email):\n",
        "  cadastro = dict()\n",
        "  cadastro[nome] = idade, email\n",
        "  return cadastro\n",
        "\n",
        "nome = input('Digite seu nome: ')\n",
        "idade = input('Digite sua idade: ')\n",
        "email = input('Digite seu email: ')\n",
        "print(cadastrar(nome, idade, email))"
      ],
      "metadata": {
        "id": "qaxZFolcoeFn",
        "colab": {
          "base_uri": "https://localhost:8080/"
        },
        "outputId": "0402a1a8-94be-4174-db47-1b192e2a115d"
      },
      "execution_count": null,
      "outputs": [
        {
          "output_type": "stream",
          "name": "stdout",
          "text": [
            "Digite seu nome: Roulien\n",
            "Digite sua idade: 18\n",
            "Digite seu email: ribeiro.roulien@gmail.com\n",
            "{'Roulien': ('18', 'ribeiro.roulien@gmail.com')}\n"
          ]
        }
      ]
    },
    {
      "cell_type": "markdown",
      "source": [
        "\n",
        "4. Faça um programa que fique pedindo uma resposta do usuário, entre \n",
        "1, 2 e 3. Se o usuário digitar 1, o programa deve cadastrar um novo \n",
        "usuário nos moldes do exercício anterior e guardar esse cadastro num \n",
        "dicionário cuja chave será o CPF da pessoa. Quando o usuário digitar \n",
        "2, o programa deve imprimir os usuários cadastrados; e se o usuário \n",
        "digitar 3, o programa deve fechar. \n",
        " Exemplo do dicionário:\n",
        " ```\n",
        " {\n",
        "    '987.654.321-00': {'nome': Maria, 'idade': 20, 'email': maria@gmail.com} \n",
        " }\n",
        " ```"
      ],
      "metadata": {
        "id": "5jAtj6Dyoksy"
      }
    },
    {
      "cell_type": "code",
      "source": [
        "cadastro_usuario = dict()\n",
        "\n",
        "def cadastrar_usuario(cpf, nome, idade, email):\n",
        "  cadastro_usuario[cpf] = nome, idade, email\n",
        "  return 'Cadastro realizado com sucesso!'\n",
        "\n",
        "def exibe_usuario():\n",
        "  return cadastro_usuario\n",
        "\n",
        "while True:\n",
        "  op = input('''Digite a opção desejada:\n",
        "  1- Cadastrar novo usuário\n",
        "  2- Imprimir usuário cadastrado\n",
        "  3- Sair do programa\n",
        "  ''')\n",
        "\n",
        "  if op == '3':\n",
        "    break\n",
        "  elif op == '1':\n",
        "    cpf = input('Insira o seu CPF: ')\n",
        "    nome = input('Insira o seu nome: ')\n",
        "    idade = input('Insira o seu idade: ')\n",
        "    email = input('Insira o seu email: ')\n",
        "\n",
        "    print(cadastrar_usuario(cpf, nome, idade, email))\n",
        "\n",
        "  elif op == '2':\n",
        "    print(exibe_usuario())\n",
        "\n",
        "  else: \n",
        "    print('Opção inválida!')"
      ],
      "metadata": {
        "id": "_tLDqbAso076",
        "colab": {
          "base_uri": "https://localhost:8080/"
        },
        "outputId": "bea376bd-8314-4f2f-ff22-6038e60626b4"
      },
      "execution_count": null,
      "outputs": [
        {
          "name": "stdout",
          "output_type": "stream",
          "text": [
            "Digite a opção desejada:\n",
            "  1- Cadastrar novo usuário\n",
            "  2- Imprimir usuário cadastrado\n",
            "  3- Sair do programa\n",
            "  1\n",
            "Insira o seu CPF: 04238646533\n",
            "Insira o seu nome: RR\n",
            "Insira o seu idade: 25\n",
            "Insira o seu email: riri@abc.com\n",
            "Cadastro realizado com sucesso!\n",
            "Digite a opção desejada:\n",
            "  1- Cadastrar novo usuário\n",
            "  2- Imprimir usuário cadastrado\n",
            "  3- Sair do programa\n",
            "  2\n",
            "{'04238646533': ('RR', '25', 'riri@abc.com')}\n",
            "Digite a opção desejada:\n",
            "  1- Cadastrar novo usuário\n",
            "  2- Imprimir usuário cadastrado\n",
            "  3- Sair do programa\n",
            "  3\n"
          ]
        }
      ]
    },
    {
      "cell_type": "markdown",
      "source": [
        "\n",
        "5. Implemente um sistema de busca para o programa do exercício anterior, \n",
        "isso é, se o usuário digitar 4, procure um determinado usuário pelo \n",
        "seu CPF. "
      ],
      "metadata": {
        "id": "HYkMbYa0o1dT"
      }
    },
    {
      "cell_type": "code",
      "source": [
        "cadastro_usuario = dict()\n",
        "\n",
        "def cadastrar_usuario(cpf, nome, idade, email):\n",
        "  cadastro_usuario[cpf] = nome, idade, email\n",
        "  return 'Cadastro realizado com sucesso!'\n",
        "\n",
        "def exibe_usuario():\n",
        "  return cadastro_usuario\n",
        "\n",
        "def busca_usuario(cpf):\n",
        "  cpf_pesquisado = cadastro_usuario.get(cpf_buscador) \n",
        "  if cpf_pesquisado == None:\n",
        "    return 'Cpf não encontrado'\n",
        "  else:\n",
        "    return cpf_pesquisado\n",
        "  \n",
        "while True:\n",
        "  op = input('''Digite a opção desejada:\n",
        "  1- Cadastrar novo usuário\n",
        "  2- Imprimir usuário cadastrado\n",
        "  3- Sair do programa\n",
        "  4- Buscar usuario por cpf\n",
        "  ''')\n",
        "\n",
        "  if op == '3':\n",
        "    break\n",
        "  elif op == '1':\n",
        "    cpf = input('Insira o seu CPF: ')\n",
        "    nome = input('Insira o seu nome: ')\n",
        "    idade = input('Insira o seu idade: ')\n",
        "    email = input('Insira o seu email: ')\n",
        "\n",
        "    print(cadastrar_usuario(cpf, nome, idade, email))\n",
        "\n",
        "  elif op == '2':\n",
        "    print(exibe_usuario())\n",
        "\n",
        "  elif op == '4':\n",
        "    cpf_buscador = input('Insira o CPF que vc deseja buscar: ')\n",
        "    print(busca_usuario(cpf_buscador))  \n",
        "\n",
        "  else: \n",
        "    print('Opção inválida!')"
      ],
      "metadata": {
        "id": "jNG-2Yd_o716",
        "colab": {
          "base_uri": "https://localhost:8080/"
        },
        "outputId": "19f0ab7e-c0f8-46df-c351-a325290af93d"
      },
      "execution_count": null,
      "outputs": [
        {
          "name": "stdout",
          "output_type": "stream",
          "text": [
            "Digite a opção desejada:\n",
            "  1- Cadastrar novo usuário\n",
            "  2- Imprimir usuário cadastrado\n",
            "  3- Sair do programa\n",
            "  1\n",
            "Insira o seu CPF: 12345678900\n",
            "Insira o seu nome: ABC\n",
            "Insira o seu idade: 12\n",
            "Insira o seu email: RIR@ABC.COM\n",
            "Cadastro realizado com sucesso!\n",
            "Digite a opção desejada:\n",
            "  1- Cadastrar novo usuário\n",
            "  2- Imprimir usuário cadastrado\n",
            "  3- Sair do programa\n",
            "  4\n",
            "Insira o CPF que vc deseja buscar: 12345678900\n",
            "('ABC', '12', 'RIR@ABC.COM')\n",
            "Digite a opção desejada:\n",
            "  1- Cadastrar novo usuário\n",
            "  2- Imprimir usuário cadastrado\n",
            "  3- Sair do programa\n",
            "  2\n",
            "{'12345678900': ('ABC', '12', 'RIR@ABC.COM')}\n",
            "Digite a opção desejada:\n",
            "  1- Cadastrar novo usuário\n",
            "  2- Imprimir usuário cadastrado\n",
            "  3- Sair do programa\n",
            "  3\n"
          ]
        }
      ]
    },
    {
      "cell_type": "markdown",
      "source": [
        "6. Como você armazenaria a seguinte tabela usando apenas \n",
        "dicionários? Tente imprimir o valor correspondente da linha Pedro x \n",
        "Nota 2.\n",
        "\n",
        "|       | Nota 1 | Nota 2 |\n",
        "|-------|--------|--------|\n",
        "| Maria | 1      | 5      |\n",
        "| Pedro | 0.5    | 3      |\n",
        "| João  | 3.2    | 1      |"
      ],
      "metadata": {
        "id": "Rod-rLHnpEFI"
      }
    },
    {
      "cell_type": "code",
      "source": [
        "dicionario = {'Maria' : {'nota1': 1, 'nota2': 5}, \n",
        "              'Pedro' : {'nota1': 0.5, 'nota2': 3},\n",
        "              'João' : {'nota1': 3.2, 'nota2': 1}}\n",
        "\n",
        "print(dicionario.get('Pedro')['nota2'])"
      ],
      "metadata": {
        "id": "zfYx9ndHphZR",
        "colab": {
          "base_uri": "https://localhost:8080/"
        },
        "outputId": "8df0a88c-955f-469b-9db6-93b16b1af094"
      },
      "execution_count": null,
      "outputs": [
        {
          "output_type": "stream",
          "name": "stdout",
          "text": [
            "3\n"
          ]
        }
      ]
    },
    {
      "cell_type": "markdown",
      "source": [
        "\n",
        "7. Faça uma função que receba uma lista e conte quantas vezes cada \n",
        "elemento apareceu nessa lista. Essa função deverá guardar os dados \n",
        "em um dicionário no qual as chaves são os elementos da lista e os \n",
        "valores são a contagem de quantas vezes esse elemento aparece. Esse dicionário representará um **histograma** dos elementos da lista.\n"
      ],
      "metadata": {
        "id": "nhxUeLgYphlE"
      }
    },
    {
      "cell_type": "code",
      "source": [
        "lista1 = ['Abobora', 'limão', 'manga', 'manga', 1, 2, 3, 4, 5, 2, 3, 6, 7, 8, 0, 0, 'manga', 0, 2, 2, 2, 'limão']\n",
        "histograma = dict()\n",
        "def vassoura():\n",
        "  lista_teste = lista1\n",
        "  for i in lista1:\n",
        "    cont = 0\n",
        "    for j in lista1:\n",
        "      if i == j:\n",
        "        cont += 1\n",
        "    if cont > 1:\n",
        "      histograma[i] = cont\n",
        "  return histograma\n",
        "resultado = vassoura()\n",
        "print(resultado)"
      ],
      "metadata": {
        "id": "ZcGn2sVJpqNW",
        "colab": {
          "base_uri": "https://localhost:8080/"
        },
        "outputId": "4ad9c27b-5a94-4f1b-aac7-eeb21fd0e44e"
      },
      "execution_count": null,
      "outputs": [
        {
          "output_type": "stream",
          "name": "stdout",
          "text": [
            "{'limão': 2, 'manga': 3, 2: 5, 3: 2, 0: 3}\n"
          ]
        }
      ]
    },
    {
      "cell_type": "markdown",
      "source": [
        "8. Faça o análogo do exercício anterior para strings: conte quantas vezes cada \n",
        "caracter apareceu nessa string e retorne um dicionário com essa \n",
        "contagem. Utilize o material de strings disponível no Google Drive para auxiliá-lo."
      ],
      "metadata": {
        "id": "f-74yhHIptB4"
      }
    },
    {
      "cell_type": "code",
      "source": [
        "def conta_letra(lista):\n",
        "  dicionario = {}\n",
        "  for i in lista:\n",
        "    dicionario[i] = lista.count(i)\n",
        "  return dicionario\n",
        "\n",
        "string = 'anagrama e loucura'\n",
        "print(conta_letra(string))\n"
      ],
      "metadata": {
        "id": "NjR2unbMpsZ6",
        "colab": {
          "base_uri": "https://localhost:8080/"
        },
        "outputId": "4096ea4c-0caf-4524-c96a-55c8e1d05202"
      },
      "execution_count": null,
      "outputs": [
        {
          "output_type": "stream",
          "name": "stdout",
          "text": [
            "{'a': 5, 'n': 1, 'g': 1, 'r': 2, 'm': 1, ' ': 2, 'e': 1, 'l': 1, 'o': 1, 'u': 2, 'c': 1}\n"
          ]
        }
      ]
    },
    {
      "cell_type": "markdown",
      "source": [
        "9. Vamos reformular o nosso sistema de alunos da aula de **tuplas**: o cadastro dos alunos deverá ser um grande dicionário.\n",
        "\n",
        "O nome de cada aluno será a chave para acessar seus dados. O conteúdo também será um dicionário, contendo 2 chaves: 'notas' e 'média'. O valor da chave 'notas' será uma tupla contendo as notas do aluno, enquanto 'média' será um float contendo sua média.\n",
        "\n",
        "Ex:\n",
        "\n",
        "```\n",
        "{\n",
        "  'João': {\n",
        "            'notas': (9, 8.5, 10, 9.5),\n",
        "            'média': 9.25\n",
        "  },\n",
        "  'Maria': {\n",
        "            'notas': (...),\n",
        "            'média':...\n",
        "  },\n",
        "  ...\n",
        "}\n",
        "```"
      ],
      "metadata": {
        "id": "DUGm44Utp1TJ"
      }
    },
    {
      "cell_type": "code",
      "source": [
        "caderneta = {}"
      ],
      "metadata": {
        "id": "zOOaEpId1Z5w"
      },
      "execution_count": null,
      "outputs": []
    },
    {
      "cell_type": "code",
      "source": [
        "def cadastra_nota():\n",
        "  nota_individual=[]\n",
        "  media = 0\n",
        "  nome = input('Insira o nome do aluno: ')\n",
        "  qtd = int(input('Quantas notas você deseja inserir: '))\n",
        "  \n",
        "  for i in range(qtd): # cadastrando notas\n",
        "    nota = float(input(f'Digite a nota {i + 1}: '))\n",
        "    nota_individual.append(nota)\n",
        "    media += nota\n",
        "  \n",
        "  nota_individual = tuple(nota_individual)\n",
        "  media = media / qtd\n",
        "  \n",
        "  caderneta[nome] = {'notas' : nota_individual, 'média' : media}\n",
        "  \n",
        "  return 'Cadastro feito com sucesso!'\n",
        "\n",
        "def procura_aluno(procurado):\n",
        "  if caderneta.get(procurado):\n",
        "    exibicao = {}\n",
        "    exibicao[procurado] = caderneta.get(procurado)\n",
        "    return exibicao\n",
        "  else: \n",
        "    return 'Não encontrado'\n",
        "\n",
        "def mostra_tudo():\n",
        "  return caderneta\n",
        "  \n",
        "def menu(op):\n",
        "  if op == 1:\n",
        "    return cadastra_nota()\n",
        "  elif op == 2:\n",
        "    aluno = input('Insira o nome do aluno: ')\n",
        "    return procura_aluno(aluno)\n",
        "  elif op == 3:\n",
        "    return mostra_tudo()\n",
        "  else:\n",
        "    return 'Opção inválida'\n",
        "\n",
        "print('Programa de notas')\n",
        "\n",
        "while (True):\n",
        "  print('''  Digite 1 para cadastrar um novo aluno \n",
        "  Digite 2 para procurar um aluno \n",
        "  Digite 3 para exibir todos alunos\n",
        "  Digite 5 para sair do sistema ''')\n",
        "  op = int(input('Digite a opção desejada: '))\n",
        "  if op == 5:\n",
        "    break\n",
        "  print(menu(op))"
      ],
      "metadata": {
        "id": "dU4iLp_Dqo_E",
        "colab": {
          "base_uri": "https://localhost:8080/"
        },
        "outputId": "51a4b5d8-5709-4ea4-f1d6-50bac55603c0"
      },
      "execution_count": null,
      "outputs": [
        {
          "name": "stdout",
          "output_type": "stream",
          "text": [
            "Programa de notas\n",
            "  Digite 1 para cadastrar um novo aluno \n",
            "  Digite 2 para procurar um aluno \n",
            "  Digite 3 para exibir todos alunos\n",
            "  Digite 5 para sair do sistema \n",
            "Digite a opção desejada: 3\n",
            "{'ABC': {'notas': (5.0, 8.0), 'média': 6.5}, 'BC': {'notas': (9.0, 6.0), 'média': 7.5}, 'IK': {'notas': (22.0, 13.0), 'média': 17.5}}\n",
            "  Digite 1 para cadastrar um novo aluno \n",
            "  Digite 2 para procurar um aluno \n",
            "  Digite 3 para exibir todos alunos\n",
            "  Digite 5 para sair do sistema \n",
            "Digite a opção desejada: 2\n",
            "Insira o nome do aluno: BC\n",
            "{'BC': {'notas': (9.0, 6.0), 'média': 7.5}}\n",
            "  Digite 1 para cadastrar um novo aluno \n",
            "  Digite 2 para procurar um aluno \n",
            "  Digite 3 para exibir todos alunos\n",
            "  Digite 5 para sair do sistema \n",
            "Digite a opção desejada: 5\n"
          ]
        }
      ]
    },
    {
      "cell_type": "markdown",
      "source": [
        "10. Ainda sobre o nosso sistema de alunos, adicione uma nova funcionalidade ao menu: \"Distribuição de notas\".\n",
        "\n",
        "  Ao acionar essa funcionalidade, o usuário deverá digitar um número correspondente ao período que deseja analisar (ex: '1' seria o primeiro bimestre/trimestre/etc, '2' seria o segundo, e assim sucessivamente) ou 'média'.\n",
        "\n",
        "  O programa deverá exibir na tela um histograma das notas da turma no período selecionado.\n"
      ],
      "metadata": {
        "id": "JEi_Utfsqohl"
      }
    },
    {
      "cell_type": "code",
      "source": [],
      "metadata": {
        "id": "POc5UgeIrBOx"
      },
      "execution_count": null,
      "outputs": []
    }
  ]
}